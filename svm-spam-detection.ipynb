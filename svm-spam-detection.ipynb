{
 "cells": [
  {
   "cell_type": "code",
   "execution_count": 1,
   "id": "a332bbcf",
   "metadata": {
    "execution": {
     "iopub.execute_input": "2023-04-23T05:09:25.035453Z",
     "iopub.status.busy": "2023-04-23T05:09:25.034807Z",
     "iopub.status.idle": "2023-04-23T05:09:26.331075Z",
     "shell.execute_reply": "2023-04-23T05:09:26.329658Z"
    },
    "papermill": {
     "duration": 1.310518,
     "end_time": "2023-04-23T05:09:26.334486",
     "exception": false,
     "start_time": "2023-04-23T05:09:25.023968",
     "status": "completed"
    },
    "tags": []
   },
   "outputs": [],
   "source": [
    "import numpy as np\n",
    "import pandas as pd\n",
    "import matplotlib.pyplot as plt\n",
    "from collections import Counter\n",
    "from sklearn import feature_extraction, model_selection, naive_bayes, metrics, svm\n",
    "from IPython.display import Image\n",
    "import warnings\n",
    "warnings.filterwarnings(\"ignore\")\n",
    "%matplotlib inline"
   ]
  },
  {
   "cell_type": "markdown",
   "id": "b60c122b",
   "metadata": {
    "papermill": {
     "duration": 0.006782,
     "end_time": "2023-04-23T05:09:26.348616",
     "exception": false,
     "start_time": "2023-04-23T05:09:26.341834",
     "status": "completed"
    },
    "tags": []
   },
   "source": [
    "**Exploring the dataset**"
   ]
  },
  {
   "cell_type": "code",
   "execution_count": 2,
   "id": "946a2613",
   "metadata": {
    "execution": {
     "iopub.execute_input": "2023-04-23T05:09:26.364950Z",
     "iopub.status.busy": "2023-04-23T05:09:26.364129Z",
     "iopub.status.idle": "2023-04-23T05:09:26.429596Z",
     "shell.execute_reply": "2023-04-23T05:09:26.428140Z"
    },
    "papermill": {
     "duration": 0.077329,
     "end_time": "2023-04-23T05:09:26.432903",
     "exception": false,
     "start_time": "2023-04-23T05:09:26.355574",
     "status": "completed"
    },
    "tags": []
   },
   "outputs": [
    {
     "data": {
      "text/html": [
       "<div>\n",
       "<style scoped>\n",
       "    .dataframe tbody tr th:only-of-type {\n",
       "        vertical-align: middle;\n",
       "    }\n",
       "\n",
       "    .dataframe tbody tr th {\n",
       "        vertical-align: top;\n",
       "    }\n",
       "\n",
       "    .dataframe thead th {\n",
       "        text-align: right;\n",
       "    }\n",
       "</style>\n",
       "<table border=\"1\" class=\"dataframe\">\n",
       "  <thead>\n",
       "    <tr style=\"text-align: right;\">\n",
       "      <th></th>\n",
       "      <th>v1</th>\n",
       "      <th>v2</th>\n",
       "      <th>Unnamed: 2</th>\n",
       "      <th>Unnamed: 3</th>\n",
       "      <th>Unnamed: 4</th>\n",
       "    </tr>\n",
       "  </thead>\n",
       "  <tbody>\n",
       "    <tr>\n",
       "      <th>0</th>\n",
       "      <td>ham</td>\n",
       "      <td>Go until jurong point, crazy.. Available only ...</td>\n",
       "      <td>NaN</td>\n",
       "      <td>NaN</td>\n",
       "      <td>NaN</td>\n",
       "    </tr>\n",
       "    <tr>\n",
       "      <th>1</th>\n",
       "      <td>ham</td>\n",
       "      <td>Ok lar... Joking wif u oni...</td>\n",
       "      <td>NaN</td>\n",
       "      <td>NaN</td>\n",
       "      <td>NaN</td>\n",
       "    </tr>\n",
       "    <tr>\n",
       "      <th>2</th>\n",
       "      <td>spam</td>\n",
       "      <td>Free entry in 2 a wkly comp to win FA Cup fina...</td>\n",
       "      <td>NaN</td>\n",
       "      <td>NaN</td>\n",
       "      <td>NaN</td>\n",
       "    </tr>\n",
       "    <tr>\n",
       "      <th>3</th>\n",
       "      <td>ham</td>\n",
       "      <td>U dun say so early hor... U c already then say...</td>\n",
       "      <td>NaN</td>\n",
       "      <td>NaN</td>\n",
       "      <td>NaN</td>\n",
       "    </tr>\n",
       "    <tr>\n",
       "      <th>4</th>\n",
       "      <td>ham</td>\n",
       "      <td>Nah I don't think he goes to usf, he lives aro...</td>\n",
       "      <td>NaN</td>\n",
       "      <td>NaN</td>\n",
       "      <td>NaN</td>\n",
       "    </tr>\n",
       "    <tr>\n",
       "      <th>5</th>\n",
       "      <td>spam</td>\n",
       "      <td>FreeMsg Hey there darling it's been 3 week's n...</td>\n",
       "      <td>NaN</td>\n",
       "      <td>NaN</td>\n",
       "      <td>NaN</td>\n",
       "    </tr>\n",
       "    <tr>\n",
       "      <th>6</th>\n",
       "      <td>ham</td>\n",
       "      <td>Even my brother is not like to speak with me. ...</td>\n",
       "      <td>NaN</td>\n",
       "      <td>NaN</td>\n",
       "      <td>NaN</td>\n",
       "    </tr>\n",
       "    <tr>\n",
       "      <th>7</th>\n",
       "      <td>ham</td>\n",
       "      <td>As per your request 'Melle Melle (Oru Minnamin...</td>\n",
       "      <td>NaN</td>\n",
       "      <td>NaN</td>\n",
       "      <td>NaN</td>\n",
       "    </tr>\n",
       "    <tr>\n",
       "      <th>8</th>\n",
       "      <td>spam</td>\n",
       "      <td>WINNER!! As a valued network customer you have...</td>\n",
       "      <td>NaN</td>\n",
       "      <td>NaN</td>\n",
       "      <td>NaN</td>\n",
       "    </tr>\n",
       "    <tr>\n",
       "      <th>9</th>\n",
       "      <td>spam</td>\n",
       "      <td>Had your mobile 11 months or more? U R entitle...</td>\n",
       "      <td>NaN</td>\n",
       "      <td>NaN</td>\n",
       "      <td>NaN</td>\n",
       "    </tr>\n",
       "  </tbody>\n",
       "</table>\n",
       "</div>"
      ],
      "text/plain": [
       "     v1                                                 v2 Unnamed: 2  \\\n",
       "0   ham  Go until jurong point, crazy.. Available only ...        NaN   \n",
       "1   ham                      Ok lar... Joking wif u oni...        NaN   \n",
       "2  spam  Free entry in 2 a wkly comp to win FA Cup fina...        NaN   \n",
       "3   ham  U dun say so early hor... U c already then say...        NaN   \n",
       "4   ham  Nah I don't think he goes to usf, he lives aro...        NaN   \n",
       "5  spam  FreeMsg Hey there darling it's been 3 week's n...        NaN   \n",
       "6   ham  Even my brother is not like to speak with me. ...        NaN   \n",
       "7   ham  As per your request 'Melle Melle (Oru Minnamin...        NaN   \n",
       "8  spam  WINNER!! As a valued network customer you have...        NaN   \n",
       "9  spam  Had your mobile 11 months or more? U R entitle...        NaN   \n",
       "\n",
       "  Unnamed: 3 Unnamed: 4  \n",
       "0        NaN        NaN  \n",
       "1        NaN        NaN  \n",
       "2        NaN        NaN  \n",
       "3        NaN        NaN  \n",
       "4        NaN        NaN  \n",
       "5        NaN        NaN  \n",
       "6        NaN        NaN  \n",
       "7        NaN        NaN  \n",
       "8        NaN        NaN  \n",
       "9        NaN        NaN  "
      ]
     },
     "execution_count": 2,
     "metadata": {},
     "output_type": "execute_result"
    }
   ],
   "source": [
    "data = pd.read_csv(\"/kaggle/input/spam-detection/spam.csv\",encoding='latin-1')\n",
    "data.head(n=10)"
   ]
  },
  {
   "cell_type": "markdown",
   "id": "4e885478",
   "metadata": {
    "papermill": {
     "duration": 0.007073,
     "end_time": "2023-04-23T05:09:26.447889",
     "exception": false,
     "start_time": "2023-04-23T05:09:26.440816",
     "status": "completed"
    },
    "tags": []
   },
   "source": [
    "**Distribution spam/non spam plots**"
   ]
  },
  {
   "cell_type": "code",
   "execution_count": 3,
   "id": "6927fa0d",
   "metadata": {
    "execution": {
     "iopub.execute_input": "2023-04-23T05:09:26.465568Z",
     "iopub.status.busy": "2023-04-23T05:09:26.465026Z",
     "iopub.status.idle": "2023-04-23T05:09:26.738448Z",
     "shell.execute_reply": "2023-04-23T05:09:26.736935Z"
    },
    "papermill": {
     "duration": 0.286052,
     "end_time": "2023-04-23T05:09:26.741575",
     "exception": false,
     "start_time": "2023-04-23T05:09:26.455523",
     "status": "completed"
    },
    "tags": []
   },
   "outputs": [
    {
     "data": {
      "image/png": "[encoded data removed]",
      "text/plain": [
       "<Figure size 640x480 with 1 Axes>"
      ]
     },
     "metadata": {},
     "output_type": "display_data"
    }
   ],
   "source": [
    "count_Class=pd.value_counts(data[\"v1\"], sort=True)\n",
    "count_Class.plot(kind='bar',color=['blue','orange'])\n",
    "plt.title('Bar chart')\n",
    "plt.show()"
   ]
  },
  {
   "cell_type": "code",
   "execution_count": 4,
   "id": "22cdeb1a",
   "metadata": {
    "execution": {
     "iopub.execute_input": "2023-04-23T05:09:26.760938Z",
     "iopub.status.busy": "2023-04-23T05:09:26.759511Z",
     "iopub.status.idle": "2023-04-23T05:09:26.894152Z",
     "shell.execute_reply": "2023-04-23T05:09:26.889902Z"
    },
    "papermill": {
     "duration": 0.148604,
     "end_time": "2023-04-23T05:09:26.898415",
     "exception": false,
     "start_time": "2023-04-23T05:09:26.749811",
     "status": "completed"
    },
    "tags": []
   },
   "outputs": [
    {
     "data": {
      "image/png": "[encoded data removed]",
      "text/plain": [
       "<Figure size 640x480 with 1 Axes>"
      ]
     },
     "metadata": {},
     "output_type": "display_data"
    }
   ],
   "source": [
    "count_Class.plot(kind='pie',autopct='%1.0f%%')\n",
    "plt.title('pie chart')\n",
    "plt.ylabel('')\n",
    "plt.show()"
   ]
  },
  {
   "cell_type": "markdown",
   "id": "f061806a",
   "metadata": {
    "papermill": {
     "duration": 0.012837,
     "end_time": "2023-04-23T05:09:26.924554",
     "exception": false,
     "start_time": "2023-04-23T05:09:26.911717",
     "status": "completed"
    },
    "tags": []
   },
   "source": [
    "**Text Analytics**"
   ]
  },
  {
   "cell_type": "code",
   "execution_count": 5,
   "id": "e1ab2fe3",
   "metadata": {
    "execution": {
     "iopub.execute_input": "2023-04-23T05:09:26.956754Z",
     "iopub.status.busy": "2023-04-23T05:09:26.955326Z",
     "iopub.status.idle": "2023-04-23T05:09:27.001666Z",
     "shell.execute_reply": "2023-04-23T05:09:27.000014Z"
    },
    "papermill": {
     "duration": 0.066701,
     "end_time": "2023-04-23T05:09:27.005177",
     "exception": false,
     "start_time": "2023-04-23T05:09:26.938476",
     "status": "completed"
    },
    "tags": []
   },
   "outputs": [],
   "source": [
    "count1=Counter(\" \".join(data[data['v1']=='ham']['v2']).split()).most_common(20)\n",
    "df1=pd.DataFrame.from_dict(count1)\n",
    "df1=df1.rename(columns={0:\"words in non-spam\",1 : \"count\"})\n",
    "count2=Counter(\" \".join(data[data['v1']=='spam']['v2']).split()).most_common(20)\n",
    "df2=pd.DataFrame.from_dict(count2)\n",
    "df2=df2.rename(columns={0:\"words in spam\",1 : \"count_\"})"
   ]
  },
  {
   "cell_type": "code",
   "execution_count": 6,
   "id": "935c0429",
   "metadata": {
    "execution": {
     "iopub.execute_input": "2023-04-23T05:09:27.025373Z",
     "iopub.status.busy": "2023-04-23T05:09:27.024851Z",
     "iopub.status.idle": "2023-04-23T05:09:27.326151Z",
     "shell.execute_reply": "2023-04-23T05:09:27.324556Z"
    },
    "papermill": {
     "duration": 0.315271,
     "end_time": "2023-04-23T05:09:27.329080",
     "exception": false,
     "start_time": "2023-04-23T05:09:27.013809",
     "status": "completed"
    },
    "tags": []
   },
   "outputs": [
    {
     "data": {
      "image/png": "[encoded data removed]",
      "text/plain": [
       "<Figure size 640x480 with 1 Axes>"
      ]
     },
     "metadata": {},
     "output_type": "display_data"
    }
   ],
   "source": [
    "df1.plot.bar(legend=False)\n",
    "y_pos=np.arange(len(df1[\"words in non-spam\"]))\n",
    "plt.xticks(y_pos,df1[\"words in non-spam\"])\n",
    "plt.title(\"More frequent words in non-spam messages\")\n",
    "plt.xlabel('words')\n",
    "plt.ylabel('numbers')\n",
    "plt.show()"
   ]
  },
  {
   "cell_type": "code",
   "execution_count": 7,
   "id": "d4115c3d",
   "metadata": {
    "execution": {
     "iopub.execute_input": "2023-04-23T05:09:27.349662Z",
     "iopub.status.busy": "2023-04-23T05:09:27.348174Z",
     "iopub.status.idle": "2023-04-23T05:09:27.634888Z",
     "shell.execute_reply": "2023-04-23T05:09:27.633484Z"
    },
    "papermill": {
     "duration": 0.299892,
     "end_time": "2023-04-23T05:09:27.637729",
     "exception": false,
     "start_time": "2023-04-23T05:09:27.337837",
     "status": "completed"
    },
    "tags": []
   },
   "outputs": [
    {
     "data": {
      "image/png": "[encoded data removed]",
      "text/plain": [
       "<Figure size 640x480 with 1 Axes>"
      ]
     },
     "metadata": {},
     "output_type": "display_data"
    }
   ],
   "source": [
    "df2.plot.bar(legend=False,color='orange')\n",
    "y_pos=np.arange(len(df2[\"words in spam\"]))\n",
    "plt.xticks(y_pos,df2[\"words in spam\"])\n",
    "plt.title(\"More frequent words in spam messages\")\n",
    "plt.xlabel('words')\n",
    "plt.ylabel('numbers')\n",
    "plt.show()"
   ]
  },
  {
   "cell_type": "code",
   "execution_count": 8,
   "id": "c4439a1d",
   "metadata": {
    "execution": {
     "iopub.execute_input": "2023-04-23T05:09:27.658178Z",
     "iopub.status.busy": "2023-04-23T05:09:27.657661Z",
     "iopub.status.idle": "2023-04-23T05:09:27.775888Z",
     "shell.execute_reply": "2023-04-23T05:09:27.774487Z"
    },
    "papermill": {
     "duration": 0.131875,
     "end_time": "2023-04-23T05:09:27.778640",
     "exception": false,
     "start_time": "2023-04-23T05:09:27.646765",
     "status": "completed"
    },
    "tags": []
   },
   "outputs": [
    {
     "data": {
      "text/plain": [
       "(5572, 8404)"
      ]
     },
     "execution_count": 8,
     "metadata": {},
     "output_type": "execute_result"
    }
   ],
   "source": [
    "f=feature_extraction.text.CountVectorizer(stop_words='english')\n",
    "X=f.fit_transform(data['v2'])\n",
    "np.shape(X)"
   ]
  },
  {
   "cell_type": "markdown",
   "id": "151c49e6",
   "metadata": {
    "papermill": {
     "duration": 0.008796,
     "end_time": "2023-04-23T05:09:27.797014",
     "exception": false,
     "start_time": "2023-04-23T05:09:27.788218",
     "status": "completed"
    },
    "tags": []
   },
   "source": [
    "**Predictive Analysis**"
   ]
  },
  {
   "cell_type": "code",
   "execution_count": 9,
   "id": "143dbd11",
   "metadata": {
    "execution": {
     "iopub.execute_input": "2023-04-23T05:09:27.818667Z",
     "iopub.status.busy": "2023-04-23T05:09:27.817300Z",
     "iopub.status.idle": "2023-04-23T05:09:27.834589Z",
     "shell.execute_reply": "2023-04-23T05:09:27.832738Z"
    },
    "papermill": {
     "duration": 0.031443,
     "end_time": "2023-04-23T05:09:27.837720",
     "exception": false,
     "start_time": "2023-04-23T05:09:27.806277",
     "status": "completed"
    },
    "tags": []
   },
   "outputs": [
    {
     "name": "stdout",
     "output_type": "stream",
     "text": [
      "[(3733, 8404), (1839, 8404)]\n"
     ]
    }
   ],
   "source": [
    "data['v1']=data['v1'].map({'spam':1,\"ham\":0})\n",
    "X_train,X_test,y_train,y_test=model_selection.train_test_split(X,data['v1'],test_size=0.33,random_state=42)\n",
    "print([np.shape(X_train),np.shape(X_test)])"
   ]
  },
  {
   "cell_type": "markdown",
   "id": "3bc0ee7f",
   "metadata": {
    "papermill": {
     "duration": 0.009046,
     "end_time": "2023-04-23T05:09:27.856066",
     "exception": false,
     "start_time": "2023-04-23T05:09:27.847020",
     "status": "completed"
    },
    "tags": []
   },
   "source": [
    "**Multinomial naive bayes classifier**"
   ]
  },
  {
   "cell_type": "code",
   "execution_count": 10,
   "id": "eaf6866f",
   "metadata": {
    "execution": {
     "iopub.execute_input": "2023-04-23T05:09:27.877070Z",
     "iopub.status.busy": "2023-04-23T05:09:27.876586Z",
     "iopub.status.idle": "2023-04-23T05:09:29.105624Z",
     "shell.execute_reply": "2023-04-23T05:09:29.104255Z"
    },
    "papermill": {
     "duration": 1.243701,
     "end_time": "2023-04-23T05:09:29.108967",
     "exception": false,
     "start_time": "2023-04-23T05:09:27.865266",
     "status": "completed"
    },
    "tags": []
   },
   "outputs": [],
   "source": [
    "list_alpha=np.arange(1/100000,20,0.11)\n",
    "score_train=np.zeros(len(list_alpha))\n",
    "score_test=np.zeros(len(list_alpha))\n",
    "recall_test=np.zeros(len(list_alpha))\n",
    "precision_test=np.zeros(len(list_alpha))\n",
    "count=0\n",
    "for alpha in list_alpha:\n",
    "    bayes=naive_bayes.MultinomialNB(alpha=alpha)\n",
    "    bayes.fit(X_train,y_train)\n",
    "    score_train[count]=bayes.score(X_train,y_train)\n",
    "    score_test[count]=bayes.score(X_test,y_test)\n",
    "    recall_test[count]=metrics.recall_score(y_test,bayes.predict(X_test))\n",
    "    precision_test[count]=metrics.precision_score(y_test,bayes.predict(X_test))\n",
    "    count=count+1"
   ]
  },
  {
   "cell_type": "code",
   "execution_count": 11,
   "id": "cc9d39a4",
   "metadata": {
    "execution": {
     "iopub.execute_input": "2023-04-23T05:09:29.130197Z",
     "iopub.status.busy": "2023-04-23T05:09:29.129688Z",
     "iopub.status.idle": "2023-04-23T05:09:29.148836Z",
     "shell.execute_reply": "2023-04-23T05:09:29.147464Z"
    },
    "papermill": {
     "duration": 0.033206,
     "end_time": "2023-04-23T05:09:29.151471",
     "exception": false,
     "start_time": "2023-04-23T05:09:29.118265",
     "status": "completed"
    },
    "tags": []
   },
   "outputs": [
    {
     "data": {
      "text/html": [
       "<div>\n",
       "<style scoped>\n",
       "    .dataframe tbody tr th:only-of-type {\n",
       "        vertical-align: middle;\n",
       "    }\n",
       "\n",
       "    .dataframe tbody tr th {\n",
       "        vertical-align: top;\n",
       "    }\n",
       "\n",
       "    .dataframe thead th {\n",
       "        text-align: right;\n",
       "    }\n",
       "</style>\n",
       "<table border=\"1\" class=\"dataframe\">\n",
       "  <thead>\n",
       "    <tr style=\"text-align: right;\">\n",
       "      <th></th>\n",
       "      <th>alpha</th>\n",
       "      <th>Train Accuracy</th>\n",
       "      <th>Test Accuracy</th>\n",
       "      <th>Test Recall</th>\n",
       "      <th>Test Precision</th>\n",
       "    </tr>\n",
       "  </thead>\n",
       "  <tbody>\n",
       "    <tr>\n",
       "      <th>0</th>\n",
       "      <td>0.00001</td>\n",
       "      <td>0.998661</td>\n",
       "      <td>0.974443</td>\n",
       "      <td>0.920635</td>\n",
       "      <td>0.895753</td>\n",
       "    </tr>\n",
       "    <tr>\n",
       "      <th>1</th>\n",
       "      <td>0.11001</td>\n",
       "      <td>0.997857</td>\n",
       "      <td>0.976074</td>\n",
       "      <td>0.936508</td>\n",
       "      <td>0.893939</td>\n",
       "    </tr>\n",
       "    <tr>\n",
       "      <th>2</th>\n",
       "      <td>0.22001</td>\n",
       "      <td>0.997857</td>\n",
       "      <td>0.977162</td>\n",
       "      <td>0.936508</td>\n",
       "      <td>0.900763</td>\n",
       "    </tr>\n",
       "    <tr>\n",
       "      <th>3</th>\n",
       "      <td>0.33001</td>\n",
       "      <td>0.997589</td>\n",
       "      <td>0.977162</td>\n",
       "      <td>0.936508</td>\n",
       "      <td>0.900763</td>\n",
       "    </tr>\n",
       "    <tr>\n",
       "      <th>4</th>\n",
       "      <td>0.44001</td>\n",
       "      <td>0.997053</td>\n",
       "      <td>0.977162</td>\n",
       "      <td>0.936508</td>\n",
       "      <td>0.900763</td>\n",
       "    </tr>\n",
       "    <tr>\n",
       "      <th>5</th>\n",
       "      <td>0.55001</td>\n",
       "      <td>0.996250</td>\n",
       "      <td>0.976618</td>\n",
       "      <td>0.936508</td>\n",
       "      <td>0.897338</td>\n",
       "    </tr>\n",
       "    <tr>\n",
       "      <th>6</th>\n",
       "      <td>0.66001</td>\n",
       "      <td>0.996518</td>\n",
       "      <td>0.976074</td>\n",
       "      <td>0.932540</td>\n",
       "      <td>0.896947</td>\n",
       "    </tr>\n",
       "    <tr>\n",
       "      <th>7</th>\n",
       "      <td>0.77001</td>\n",
       "      <td>0.996518</td>\n",
       "      <td>0.976074</td>\n",
       "      <td>0.924603</td>\n",
       "      <td>0.903101</td>\n",
       "    </tr>\n",
       "    <tr>\n",
       "      <th>8</th>\n",
       "      <td>0.88001</td>\n",
       "      <td>0.996250</td>\n",
       "      <td>0.976074</td>\n",
       "      <td>0.924603</td>\n",
       "      <td>0.903101</td>\n",
       "    </tr>\n",
       "    <tr>\n",
       "      <th>9</th>\n",
       "      <td>0.99001</td>\n",
       "      <td>0.995982</td>\n",
       "      <td>0.976074</td>\n",
       "      <td>0.920635</td>\n",
       "      <td>0.906250</td>\n",
       "    </tr>\n",
       "  </tbody>\n",
       "</table>\n",
       "</div>"
      ],
      "text/plain": [
       "     alpha  Train Accuracy  Test Accuracy  Test Recall  Test Precision\n",
       "0  0.00001        0.998661       0.974443     0.920635        0.895753\n",
       "1  0.11001        0.997857       0.976074     0.936508        0.893939\n",
       "2  0.22001        0.997857       0.977162     0.936508        0.900763\n",
       "3  0.33001        0.997589       0.977162     0.936508        0.900763\n",
       "4  0.44001        0.997053       0.977162     0.936508        0.900763\n",
       "5  0.55001        0.996250       0.976618     0.936508        0.897338\n",
       "6  0.66001        0.996518       0.976074     0.932540        0.896947\n",
       "7  0.77001        0.996518       0.976074     0.924603        0.903101\n",
       "8  0.88001        0.996250       0.976074     0.924603        0.903101\n",
       "9  0.99001        0.995982       0.976074     0.920635        0.906250"
      ]
     },
     "execution_count": 11,
     "metadata": {},
     "output_type": "execute_result"
    }
   ],
   "source": [
    "matrix=np.matrix(np.c_[list_alpha,score_train,score_test,recall_test,precision_test])\n",
    "models=pd.DataFrame(data=matrix,columns=['alpha','Train Accuracy','Test Accuracy','Test Recall','Test Precision'])\n",
    "models.head(n=10)"
   ]
  },
  {
   "cell_type": "markdown",
   "id": "ef94cec9",
   "metadata": {
    "papermill": {
     "duration": 0.009244,
     "end_time": "2023-04-23T05:09:29.171671",
     "exception": false,
     "start_time": "2023-04-23T05:09:29.162427",
     "status": "completed"
    },
    "tags": []
   },
   "source": [
    "selected the model with the most test precision"
   ]
  },
  {
   "cell_type": "code",
   "execution_count": 12,
   "id": "d4b5ae76",
   "metadata": {
    "execution": {
     "iopub.execute_input": "2023-04-23T05:09:29.193644Z",
     "iopub.status.busy": "2023-04-23T05:09:29.192194Z",
     "iopub.status.idle": "2023-04-23T05:09:29.202520Z",
     "shell.execute_reply": "2023-04-23T05:09:29.201348Z"
    },
    "papermill": {
     "duration": 0.02387,
     "end_time": "2023-04-23T05:09:29.204939",
     "exception": false,
     "start_time": "2023-04-23T05:09:29.181069",
     "status": "completed"
    },
    "tags": []
   },
   "outputs": [
    {
     "data": {
      "text/plain": [
       "alpha             15.730010\n",
       "Train Accuracy     0.979641\n",
       "Test Accuracy      0.969549\n",
       "Test Recall        0.777778\n",
       "Test Precision     1.000000\n",
       "Name: 143, dtype: float64"
      ]
     },
     "execution_count": 12,
     "metadata": {},
     "output_type": "execute_result"
    }
   ],
   "source": [
    "best_index=models['Test Precision'].idxmax()\n",
    "models.iloc[best_index, :]"
   ]
  },
  {
   "cell_type": "code",
   "execution_count": 13,
   "id": "aa7922b5",
   "metadata": {
    "execution": {
     "iopub.execute_input": "2023-04-23T05:09:29.226826Z",
     "iopub.status.busy": "2023-04-23T05:09:29.226034Z",
     "iopub.status.idle": "2023-04-23T05:09:29.241978Z",
     "shell.execute_reply": "2023-04-23T05:09:29.240629Z"
    },
    "papermill": {
     "duration": 0.030026,
     "end_time": "2023-04-23T05:09:29.244663",
     "exception": false,
     "start_time": "2023-04-23T05:09:29.214637",
     "status": "completed"
    },
    "tags": []
   },
   "outputs": [
    {
     "data": {
      "text/html": [
       "<div>\n",
       "<style scoped>\n",
       "    .dataframe tbody tr th:only-of-type {\n",
       "        vertical-align: middle;\n",
       "    }\n",
       "\n",
       "    .dataframe tbody tr th {\n",
       "        vertical-align: top;\n",
       "    }\n",
       "\n",
       "    .dataframe thead th {\n",
       "        text-align: right;\n",
       "    }\n",
       "</style>\n",
       "<table border=\"1\" class=\"dataframe\">\n",
       "  <thead>\n",
       "    <tr style=\"text-align: right;\">\n",
       "      <th></th>\n",
       "      <th>alpha</th>\n",
       "      <th>Train Accuracy</th>\n",
       "      <th>Test Accuracy</th>\n",
       "      <th>Test Recall</th>\n",
       "      <th>Test Precision</th>\n",
       "    </tr>\n",
       "  </thead>\n",
       "  <tbody>\n",
       "    <tr>\n",
       "      <th>143</th>\n",
       "      <td>15.73001</td>\n",
       "      <td>0.979641</td>\n",
       "      <td>0.969549</td>\n",
       "      <td>0.777778</td>\n",
       "      <td>1.0</td>\n",
       "    </tr>\n",
       "    <tr>\n",
       "      <th>144</th>\n",
       "      <td>15.84001</td>\n",
       "      <td>0.979641</td>\n",
       "      <td>0.969549</td>\n",
       "      <td>0.777778</td>\n",
       "      <td>1.0</td>\n",
       "    </tr>\n",
       "    <tr>\n",
       "      <th>145</th>\n",
       "      <td>15.95001</td>\n",
       "      <td>0.979641</td>\n",
       "      <td>0.969549</td>\n",
       "      <td>0.777778</td>\n",
       "      <td>1.0</td>\n",
       "    </tr>\n",
       "    <tr>\n",
       "      <th>146</th>\n",
       "      <td>16.06001</td>\n",
       "      <td>0.979373</td>\n",
       "      <td>0.969549</td>\n",
       "      <td>0.777778</td>\n",
       "      <td>1.0</td>\n",
       "    </tr>\n",
       "    <tr>\n",
       "      <th>147</th>\n",
       "      <td>16.17001</td>\n",
       "      <td>0.979373</td>\n",
       "      <td>0.969549</td>\n",
       "      <td>0.777778</td>\n",
       "      <td>1.0</td>\n",
       "    </tr>\n",
       "  </tbody>\n",
       "</table>\n",
       "</div>"
      ],
      "text/plain": [
       "        alpha  Train Accuracy  Test Accuracy  Test Recall  Test Precision\n",
       "143  15.73001        0.979641       0.969549     0.777778             1.0\n",
       "144  15.84001        0.979641       0.969549     0.777778             1.0\n",
       "145  15.95001        0.979641       0.969549     0.777778             1.0\n",
       "146  16.06001        0.979373       0.969549     0.777778             1.0\n",
       "147  16.17001        0.979373       0.969549     0.777778             1.0"
      ]
     },
     "execution_count": 13,
     "metadata": {},
     "output_type": "execute_result"
    }
   ],
   "source": [
    "models[models['Test Precision']==1].head(n=5)"
   ]
  },
  {
   "cell_type": "markdown",
   "id": "6c6369b0",
   "metadata": {
    "papermill": {
     "duration": 0.00965,
     "end_time": "2023-04-23T05:09:29.264059",
     "exception": false,
     "start_time": "2023-04-23T05:09:29.254409",
     "status": "completed"
    },
    "tags": []
   },
   "source": [
    "Between these models with the highest possible precision, we are going to select which has more test accuracy"
   ]
  },
  {
   "cell_type": "code",
   "execution_count": 14,
   "id": "41b77568",
   "metadata": {
    "execution": {
     "iopub.execute_input": "2023-04-23T05:09:29.285873Z",
     "iopub.status.busy": "2023-04-23T05:09:29.285077Z",
     "iopub.status.idle": "2023-04-23T05:09:29.299674Z",
     "shell.execute_reply": "2023-04-23T05:09:29.298321Z"
    },
    "papermill": {
     "duration": 0.0286,
     "end_time": "2023-04-23T05:09:29.302273",
     "exception": false,
     "start_time": "2023-04-23T05:09:29.273673",
     "status": "completed"
    },
    "tags": []
   },
   "outputs": [
    {
     "data": {
      "text/plain": [
       "alpha             15.730010\n",
       "Train Accuracy     0.979641\n",
       "Test Accuracy      0.969549\n",
       "Test Recall        0.777778\n",
       "Test Precision     1.000000\n",
       "Name: 143, dtype: float64"
      ]
     },
     "execution_count": 14,
     "metadata": {},
     "output_type": "execute_result"
    }
   ],
   "source": [
    "best_index=models[models['Test Precision']==1]['Test Accuracy'].idxmax()\n",
    "bayes=naive_bayes.MultinomialNB(alpha=list_alpha[best_index])\n",
    "bayes.fit(X_train,y_train)\n",
    "models.iloc[best_index, :]"
   ]
  },
  {
   "cell_type": "markdown",
   "id": "dbc9be49",
   "metadata": {
    "papermill": {
     "duration": 0.009462,
     "end_time": "2023-04-23T05:09:29.321650",
     "exception": false,
     "start_time": "2023-04-23T05:09:29.312188",
     "status": "completed"
    },
    "tags": []
   },
   "source": [
    "**Confusion matrix with naive bayes classifier**"
   ]
  },
  {
   "cell_type": "code",
   "execution_count": 15,
   "id": "1123e49a",
   "metadata": {
    "execution": {
     "iopub.execute_input": "2023-04-23T05:09:29.343764Z",
     "iopub.status.busy": "2023-04-23T05:09:29.343255Z",
     "iopub.status.idle": "2023-04-23T05:09:29.357973Z",
     "shell.execute_reply": "2023-04-23T05:09:29.356425Z"
    },
    "papermill": {
     "duration": 0.029425,
     "end_time": "2023-04-23T05:09:29.360960",
     "exception": false,
     "start_time": "2023-04-23T05:09:29.331535",
     "status": "completed"
    },
    "tags": []
   },
   "outputs": [
    {
     "data": {
      "text/html": [
       "<div>\n",
       "<style scoped>\n",
       "    .dataframe tbody tr th:only-of-type {\n",
       "        vertical-align: middle;\n",
       "    }\n",
       "\n",
       "    .dataframe tbody tr th {\n",
       "        vertical-align: top;\n",
       "    }\n",
       "\n",
       "    .dataframe thead th {\n",
       "        text-align: right;\n",
       "    }\n",
       "</style>\n",
       "<table border=\"1\" class=\"dataframe\">\n",
       "  <thead>\n",
       "    <tr style=\"text-align: right;\">\n",
       "      <th></th>\n",
       "      <th>Predicted 0</th>\n",
       "      <th>predicted 1</th>\n",
       "    </tr>\n",
       "  </thead>\n",
       "  <tbody>\n",
       "    <tr>\n",
       "      <th>Actual 0</th>\n",
       "      <td>1587</td>\n",
       "      <td>0</td>\n",
       "    </tr>\n",
       "    <tr>\n",
       "      <th>Actual 1</th>\n",
       "      <td>56</td>\n",
       "      <td>196</td>\n",
       "    </tr>\n",
       "  </tbody>\n",
       "</table>\n",
       "</div>"
      ],
      "text/plain": [
       "          Predicted 0  predicted 1\n",
       "Actual 0         1587            0\n",
       "Actual 1           56          196"
      ]
     },
     "execution_count": 15,
     "metadata": {},
     "output_type": "execute_result"
    }
   ],
   "source": [
    "m_confusion_test=metrics.confusion_matrix(y_test,bayes.predict(X_test))\n",
    "pd.DataFrame(data=m_confusion_test,columns=['Predicted 0','predicted 1'],index=['Actual 0','Actual 1'])"
   ]
  },
  {
   "cell_type": "code",
   "execution_count": 16,
   "id": "2a21717f",
   "metadata": {
    "execution": {
     "iopub.execute_input": "2023-04-23T05:09:29.384068Z",
     "iopub.status.busy": "2023-04-23T05:09:29.383585Z",
     "iopub.status.idle": "2023-04-23T05:10:02.063825Z",
     "shell.execute_reply": "2023-04-23T05:10:02.061960Z"
    },
    "papermill": {
     "duration": 32.696546,
     "end_time": "2023-04-23T05:10:02.067997",
     "exception": false,
     "start_time": "2023-04-23T05:09:29.371451",
     "status": "completed"
    },
    "tags": []
   },
   "outputs": [],
   "source": [
    "list_C=np.arange(500,2000,100)\n",
    "score_train=np.zeros(len(list_C))\n",
    "score_test=np.zeros(len(list_C))\n",
    "recall_test = np.zeros(len(list_C))\n",
    "precision_test= np.zeros(len(list_C))\n",
    "count = 0\n",
    "for C in list_C:\n",
    "    svc = svm.SVC(C=C)\n",
    "    svc.fit(X_train, y_train)\n",
    "    score_train[count] = svc.score(X_train, y_train)\n",
    "    score_test[count]= svc.score(X_test, y_test)\n",
    "    recall_test[count] = metrics.recall_score(y_test, svc.predict(X_test))\n",
    "    precision_test[count] = metrics.precision_score(y_test, svc.predict(X_test))\n",
    "    count = count + 1 "
   ]
  },
  {
   "cell_type": "code",
   "execution_count": 17,
   "id": "bba6e418",
   "metadata": {
    "execution": {
     "iopub.execute_input": "2023-04-23T05:10:02.091469Z",
     "iopub.status.busy": "2023-04-23T05:10:02.090910Z",
     "iopub.status.idle": "2023-04-23T05:10:02.112018Z",
     "shell.execute_reply": "2023-04-23T05:10:02.110132Z"
    },
    "papermill": {
     "duration": 0.036337,
     "end_time": "2023-04-23T05:10:02.114914",
     "exception": false,
     "start_time": "2023-04-23T05:10:02.078577",
     "status": "completed"
    },
    "tags": []
   },
   "outputs": [
    {
     "data": {
      "text/html": [
       "<div>\n",
       "<style scoped>\n",
       "    .dataframe tbody tr th:only-of-type {\n",
       "        vertical-align: middle;\n",
       "    }\n",
       "\n",
       "    .dataframe tbody tr th {\n",
       "        vertical-align: top;\n",
       "    }\n",
       "\n",
       "    .dataframe thead th {\n",
       "        text-align: right;\n",
       "    }\n",
       "</style>\n",
       "<table border=\"1\" class=\"dataframe\">\n",
       "  <thead>\n",
       "    <tr style=\"text-align: right;\">\n",
       "      <th></th>\n",
       "      <th>C</th>\n",
       "      <th>Train Accuracy</th>\n",
       "      <th>Test Accuracy</th>\n",
       "      <th>Test Recall</th>\n",
       "      <th>Test Precision</th>\n",
       "    </tr>\n",
       "  </thead>\n",
       "  <tbody>\n",
       "    <tr>\n",
       "      <th>0</th>\n",
       "      <td>500.0</td>\n",
       "      <td>1.0</td>\n",
       "      <td>0.979337</td>\n",
       "      <td>0.853175</td>\n",
       "      <td>0.99537</td>\n",
       "    </tr>\n",
       "    <tr>\n",
       "      <th>1</th>\n",
       "      <td>600.0</td>\n",
       "      <td>1.0</td>\n",
       "      <td>0.979337</td>\n",
       "      <td>0.853175</td>\n",
       "      <td>0.99537</td>\n",
       "    </tr>\n",
       "    <tr>\n",
       "      <th>2</th>\n",
       "      <td>700.0</td>\n",
       "      <td>1.0</td>\n",
       "      <td>0.979337</td>\n",
       "      <td>0.853175</td>\n",
       "      <td>0.99537</td>\n",
       "    </tr>\n",
       "    <tr>\n",
       "      <th>3</th>\n",
       "      <td>800.0</td>\n",
       "      <td>1.0</td>\n",
       "      <td>0.979337</td>\n",
       "      <td>0.853175</td>\n",
       "      <td>0.99537</td>\n",
       "    </tr>\n",
       "    <tr>\n",
       "      <th>4</th>\n",
       "      <td>900.0</td>\n",
       "      <td>1.0</td>\n",
       "      <td>0.979337</td>\n",
       "      <td>0.853175</td>\n",
       "      <td>0.99537</td>\n",
       "    </tr>\n",
       "    <tr>\n",
       "      <th>5</th>\n",
       "      <td>1000.0</td>\n",
       "      <td>1.0</td>\n",
       "      <td>0.979337</td>\n",
       "      <td>0.853175</td>\n",
       "      <td>0.99537</td>\n",
       "    </tr>\n",
       "    <tr>\n",
       "      <th>6</th>\n",
       "      <td>1100.0</td>\n",
       "      <td>1.0</td>\n",
       "      <td>0.979337</td>\n",
       "      <td>0.853175</td>\n",
       "      <td>0.99537</td>\n",
       "    </tr>\n",
       "    <tr>\n",
       "      <th>7</th>\n",
       "      <td>1200.0</td>\n",
       "      <td>1.0</td>\n",
       "      <td>0.979337</td>\n",
       "      <td>0.853175</td>\n",
       "      <td>0.99537</td>\n",
       "    </tr>\n",
       "    <tr>\n",
       "      <th>8</th>\n",
       "      <td>1300.0</td>\n",
       "      <td>1.0</td>\n",
       "      <td>0.979337</td>\n",
       "      <td>0.853175</td>\n",
       "      <td>0.99537</td>\n",
       "    </tr>\n",
       "    <tr>\n",
       "      <th>9</th>\n",
       "      <td>1400.0</td>\n",
       "      <td>1.0</td>\n",
       "      <td>0.979337</td>\n",
       "      <td>0.853175</td>\n",
       "      <td>0.99537</td>\n",
       "    </tr>\n",
       "  </tbody>\n",
       "</table>\n",
       "</div>"
      ],
      "text/plain": [
       "        C  Train Accuracy  Test Accuracy  Test Recall  Test Precision\n",
       "0   500.0             1.0       0.979337     0.853175         0.99537\n",
       "1   600.0             1.0       0.979337     0.853175         0.99537\n",
       "2   700.0             1.0       0.979337     0.853175         0.99537\n",
       "3   800.0             1.0       0.979337     0.853175         0.99537\n",
       "4   900.0             1.0       0.979337     0.853175         0.99537\n",
       "5  1000.0             1.0       0.979337     0.853175         0.99537\n",
       "6  1100.0             1.0       0.979337     0.853175         0.99537\n",
       "7  1200.0             1.0       0.979337     0.853175         0.99537\n",
       "8  1300.0             1.0       0.979337     0.853175         0.99537\n",
       "9  1400.0             1.0       0.979337     0.853175         0.99537"
      ]
     },
     "execution_count": 17,
     "metadata": {},
     "output_type": "execute_result"
    }
   ],
   "source": [
    "matrix=np.matrix(np.c_[list_C,score_train,score_test,recall_test,precision_test])\n",
    "models=pd.DataFrame(data=matrix,columns=['C','Train Accuracy','Test Accuracy','Test Recall','Test Precision'])\n",
    "models.head(n=10)"
   ]
  },
  {
   "cell_type": "code",
   "execution_count": 18,
   "id": "ec42a10c",
   "metadata": {
    "execution": {
     "iopub.execute_input": "2023-04-23T05:10:02.139006Z",
     "iopub.status.busy": "2023-04-23T05:10:02.138510Z",
     "iopub.status.idle": "2023-04-23T05:10:02.150338Z",
     "shell.execute_reply": "2023-04-23T05:10:02.148834Z"
    },
    "papermill": {
     "duration": 0.027585,
     "end_time": "2023-04-23T05:10:02.153297",
     "exception": false,
     "start_time": "2023-04-23T05:10:02.125712",
     "status": "completed"
    },
    "tags": []
   },
   "outputs": [
    {
     "data": {
      "text/plain": [
       "C                 500.000000\n",
       "Train Accuracy      1.000000\n",
       "Test Accuracy       0.979337\n",
       "Test Recall         0.853175\n",
       "Test Precision      0.995370\n",
       "Name: 0, dtype: float64"
      ]
     },
     "execution_count": 18,
     "metadata": {},
     "output_type": "execute_result"
    }
   ],
   "source": [
    "best_index=models['Test Precision'].idxmax()\n",
    "models.iloc[best_index, :]"
   ]
  },
  {
   "cell_type": "code",
   "execution_count": 19,
   "id": "d217b864",
   "metadata": {
    "execution": {
     "iopub.execute_input": "2023-04-23T05:10:02.177724Z",
     "iopub.status.busy": "2023-04-23T05:10:02.176940Z",
     "iopub.status.idle": "2023-04-23T05:10:02.190040Z",
     "shell.execute_reply": "2023-04-23T05:10:02.188615Z"
    },
    "papermill": {
     "duration": 0.0286,
     "end_time": "2023-04-23T05:10:02.192839",
     "exception": false,
     "start_time": "2023-04-23T05:10:02.164239",
     "status": "completed"
    },
    "tags": []
   },
   "outputs": [
    {
     "data": {
      "text/html": [
       "<div>\n",
       "<style scoped>\n",
       "    .dataframe tbody tr th:only-of-type {\n",
       "        vertical-align: middle;\n",
       "    }\n",
       "\n",
       "    .dataframe tbody tr th {\n",
       "        vertical-align: top;\n",
       "    }\n",
       "\n",
       "    .dataframe thead th {\n",
       "        text-align: right;\n",
       "    }\n",
       "</style>\n",
       "<table border=\"1\" class=\"dataframe\">\n",
       "  <thead>\n",
       "    <tr style=\"text-align: right;\">\n",
       "      <th></th>\n",
       "      <th>C</th>\n",
       "      <th>Train Accuracy</th>\n",
       "      <th>Test Accuracy</th>\n",
       "      <th>Test Recall</th>\n",
       "      <th>Test Precision</th>\n",
       "    </tr>\n",
       "  </thead>\n",
       "  <tbody>\n",
       "  </tbody>\n",
       "</table>\n",
       "</div>"
      ],
      "text/plain": [
       "Empty DataFrame\n",
       "Columns: [C, Train Accuracy, Test Accuracy, Test Recall, Test Precision]\n",
       "Index: []"
      ]
     },
     "execution_count": 19,
     "metadata": {},
     "output_type": "execute_result"
    }
   ],
   "source": [
    "models[models['Test Precision']==1].head(n=5)"
   ]
  },
  {
   "cell_type": "code",
   "execution_count": 20,
   "id": "cf8adfcb",
   "metadata": {
    "execution": {
     "iopub.execute_input": "2023-04-23T05:10:02.217959Z",
     "iopub.status.busy": "2023-04-23T05:10:02.217029Z",
     "iopub.status.idle": "2023-04-23T05:10:02.536755Z",
     "shell.execute_reply": "2023-04-23T05:10:02.535405Z"
    },
    "papermill": {
     "duration": 0.336147,
     "end_time": "2023-04-23T05:10:02.539953",
     "exception": false,
     "start_time": "2023-04-23T05:10:02.203806",
     "status": "completed"
    },
    "tags": []
   },
   "outputs": [
    {
     "data": {
      "text/html": [
       "<div>\n",
       "<style scoped>\n",
       "    .dataframe tbody tr th:only-of-type {\n",
       "        vertical-align: middle;\n",
       "    }\n",
       "\n",
       "    .dataframe tbody tr th {\n",
       "        vertical-align: top;\n",
       "    }\n",
       "\n",
       "    .dataframe thead th {\n",
       "        text-align: right;\n",
       "    }\n",
       "</style>\n",
       "<table border=\"1\" class=\"dataframe\">\n",
       "  <thead>\n",
       "    <tr style=\"text-align: right;\">\n",
       "      <th></th>\n",
       "      <th>Predicted 0</th>\n",
       "      <th>Predicted 1</th>\n",
       "    </tr>\n",
       "  </thead>\n",
       "  <tbody>\n",
       "    <tr>\n",
       "      <th>Actual 0</th>\n",
       "      <td>1587</td>\n",
       "      <td>0</td>\n",
       "    </tr>\n",
       "    <tr>\n",
       "      <th>Actual 1</th>\n",
       "      <td>56</td>\n",
       "      <td>196</td>\n",
       "    </tr>\n",
       "  </tbody>\n",
       "</table>\n",
       "</div>"
      ],
      "text/plain": [
       "          Predicted 0  Predicted 1\n",
       "Actual 0         1587            0\n",
       "Actual 1           56          196"
      ]
     },
     "execution_count": 20,
     "metadata": {},
     "output_type": "execute_result"
    }
   ],
   "source": [
    "m_confision_test=metrics.confusion_matrix(y_test,svc.predict(X_test))\n",
    "pd.DataFrame(data=m_confusion_test,columns=['Predicted 0','Predicted 1'],index=['Actual 0','Actual 1'])\n"
   ]
  },
  {
   "cell_type": "markdown",
   "id": "4ded35be",
   "metadata": {
    "papermill": {
     "duration": 0.010676,
     "end_time": "2023-04-23T05:10:02.562437",
     "exception": false,
     "start_time": "2023-04-23T05:10:02.551761",
     "status": "completed"
    },
    "tags": []
   },
   "source": []
  }
 ],
 "metadata": {
  "kernelspec": {
   "display_name": "Python 3",
   "language": "python",
   "name": "python3"
  },
  "language_info": {
   "codemirror_mode": {
    "name": "ipython",
    "version": 3
   },
   "file_extension": ".py",
   "mimetype": "text/x-python",
   "name": "python",
   "nbconvert_exporter": "python",
   "pygments_lexer": "ipython3",
   "version": "3.7.12"
  },
  "papermill": {
   "default_parameters": {},
   "duration": 50.725374,
   "end_time": "2023-04-23T05:10:03.701615",
   "environment_variables": {},
   "exception": null,
   "input_path": "__notebook__.ipynb",
   "output_path": "__notebook__.ipynb",
   "parameters": {},
   "start_time": "2023-04-23T05:09:12.976241",
   "version": "2.4.0"
  }
 },
 "nbformat": 4,
 "nbformat_minor": 5
}
